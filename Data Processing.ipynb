{
 "cells": [
  {
   "cell_type": "markdown",
   "metadata": {},
   "source": [
    "# Imports"
   ]
  },
  {
   "cell_type": "code",
   "execution_count": 1,
   "metadata": {},
   "outputs": [],
   "source": [
    "import numpy as np\n",
    "import pandas as pd\n",
    "import matplotlib.pyplot as plt\n",
    "from sklearn.preprocessing import MinMaxScaler\n",
    "#from keras.models import Sequential\n",
    "#from keras.layers import Bidirectional, LSTM, Dropout, Dense"
   ]
  },
  {
   "cell_type": "markdown",
   "metadata": {},
   "source": [
    "# Data Collection and Organization"
   ]
  },
  {
   "cell_type": "code",
   "execution_count": 2,
   "metadata": {},
   "outputs": [
    {
     "data": {
      "text/html": [
       "<div>\n",
       "<style scoped>\n",
       "    .dataframe tbody tr th:only-of-type {\n",
       "        vertical-align: middle;\n",
       "    }\n",
       "\n",
       "    .dataframe tbody tr th {\n",
       "        vertical-align: top;\n",
       "    }\n",
       "\n",
       "    .dataframe thead th {\n",
       "        text-align: right;\n",
       "    }\n",
       "</style>\n",
       "<table border=\"1\" class=\"dataframe\">\n",
       "  <thead>\n",
       "    <tr style=\"text-align: right;\">\n",
       "      <th></th>\n",
       "      <th>Date</th>\n",
       "      <th>VIX</th>\n",
       "      <th>DOW</th>\n",
       "      <th>GFD</th>\n",
       "      <th>GOLD</th>\n",
       "      <th>SPX</th>\n",
       "    </tr>\n",
       "  </thead>\n",
       "  <tbody>\n",
       "    <tr>\n",
       "      <th>0</th>\n",
       "      <td>2021-10-21</td>\n",
       "      <td>15.01</td>\n",
       "      <td>35603.08</td>\n",
       "      <td>11258.083417</td>\n",
       "      <td>1778.00</td>\n",
       "      <td>9506.91</td>\n",
       "    </tr>\n",
       "    <tr>\n",
       "      <th>1</th>\n",
       "      <td>2021-10-20</td>\n",
       "      <td>15.49</td>\n",
       "      <td>35609.34</td>\n",
       "      <td>11258.064911</td>\n",
       "      <td>1778.00</td>\n",
       "      <td>9477.82</td>\n",
       "    </tr>\n",
       "    <tr>\n",
       "      <th>2</th>\n",
       "      <td>2021-10-19</td>\n",
       "      <td>15.70</td>\n",
       "      <td>35457.31</td>\n",
       "      <td>11258.049489</td>\n",
       "      <td>1779.55</td>\n",
       "      <td>9443.12</td>\n",
       "    </tr>\n",
       "    <tr>\n",
       "      <th>3</th>\n",
       "      <td>2021-10-18</td>\n",
       "      <td>16.31</td>\n",
       "      <td>35258.61</td>\n",
       "      <td>11258.034067</td>\n",
       "      <td>1767.85</td>\n",
       "      <td>9373.68</td>\n",
       "    </tr>\n",
       "    <tr>\n",
       "      <th>4</th>\n",
       "      <td>2021-10-17</td>\n",
       "      <td>16.30</td>\n",
       "      <td>35294.76</td>\n",
       "      <td>11258.015560</td>\n",
       "      <td>1772.65</td>\n",
       "      <td>9342.15</td>\n",
       "    </tr>\n",
       "    <tr>\n",
       "      <th>...</th>\n",
       "      <td>...</td>\n",
       "      <td>...</td>\n",
       "      <td>...</td>\n",
       "      <td>...</td>\n",
       "      <td>...</td>\n",
       "      <td>...</td>\n",
       "    </tr>\n",
       "    <tr>\n",
       "      <th>84264</th>\n",
       "      <td>1791-02-05</td>\n",
       "      <td>NaN</td>\n",
       "      <td>NaN</td>\n",
       "      <td>1.000822</td>\n",
       "      <td>NaN</td>\n",
       "      <td>NaN</td>\n",
       "    </tr>\n",
       "    <tr>\n",
       "      <th>84265</th>\n",
       "      <td>1791-02-04</td>\n",
       "      <td>NaN</td>\n",
       "      <td>NaN</td>\n",
       "      <td>1.000658</td>\n",
       "      <td>NaN</td>\n",
       "      <td>NaN</td>\n",
       "    </tr>\n",
       "    <tr>\n",
       "      <th>84266</th>\n",
       "      <td>1791-02-03</td>\n",
       "      <td>NaN</td>\n",
       "      <td>NaN</td>\n",
       "      <td>1.000493</td>\n",
       "      <td>NaN</td>\n",
       "      <td>NaN</td>\n",
       "    </tr>\n",
       "    <tr>\n",
       "      <th>84267</th>\n",
       "      <td>1791-02-02</td>\n",
       "      <td>NaN</td>\n",
       "      <td>NaN</td>\n",
       "      <td>1.000329</td>\n",
       "      <td>NaN</td>\n",
       "      <td>NaN</td>\n",
       "    </tr>\n",
       "    <tr>\n",
       "      <th>84268</th>\n",
       "      <td>1791-02-01</td>\n",
       "      <td>NaN</td>\n",
       "      <td>NaN</td>\n",
       "      <td>1.000164</td>\n",
       "      <td>NaN</td>\n",
       "      <td>NaN</td>\n",
       "    </tr>\n",
       "  </tbody>\n",
       "</table>\n",
       "<p>84269 rows × 6 columns</p>\n",
       "</div>"
      ],
      "text/plain": [
       "            Date    VIX       DOW           GFD     GOLD      SPX\n",
       "0     2021-10-21  15.01  35603.08  11258.083417  1778.00  9506.91\n",
       "1     2021-10-20  15.49  35609.34  11258.064911  1778.00  9477.82\n",
       "2     2021-10-19  15.70  35457.31  11258.049489  1779.55  9443.12\n",
       "3     2021-10-18  16.31  35258.61  11258.034067  1767.85  9373.68\n",
       "4     2021-10-17  16.30  35294.76  11258.015560  1772.65  9342.15\n",
       "...          ...    ...       ...           ...      ...      ...\n",
       "84264 1791-02-05    NaN       NaN      1.000822      NaN      NaN\n",
       "84265 1791-02-04    NaN       NaN      1.000658      NaN      NaN\n",
       "84266 1791-02-03    NaN       NaN      1.000493      NaN      NaN\n",
       "84267 1791-02-02    NaN       NaN      1.000329      NaN      NaN\n",
       "84268 1791-02-01    NaN       NaN      1.000164      NaN      NaN\n",
       "\n",
       "[84269 rows x 6 columns]"
      ]
     },
     "execution_count": 2,
     "metadata": {},
     "output_type": "execute_result"
    }
   ],
   "source": [
    "#Loading the data\n",
    "VIX = pd.read_csv('data/VIX.csv', header = 2)\n",
    "DOW = pd.read_csv('data/DOW.csv', header = 2)\n",
    "GFD = pd.read_csv('data/GFD_TBILL_DAILY.csv', header = 2)\n",
    "GOLD = pd.read_csv('data/GOLD.csv', header = 2)\n",
    "SPX = pd.read_csv('data/SPX.csv', header = 2)\n",
    "# I'm not using US_10YR because it contains duplicate values for many dates\n",
    "#US_10YR = pd.read_csv('data/US_10yr_yield.csv', header = 2)\n",
    "\n",
    "# Define a helper function to process the data\n",
    "def process_data(df, label):\n",
    "    \n",
    "    # Convert the Date column from a string to datetime format\n",
    "    df['Date'] = pd.to_datetime(df['Date'])\n",
    "    \n",
    "    # Get only the Dates earlier than 2021-10-21 since we aren't predicting into the future\n",
    "    df = df.loc[(df['Date'] <= '2021-10-21')]\n",
    "    \n",
    "    # Reverse the data to go backward in time\n",
    "    df = df.sort_values(by='Date', ascending=False).reset_index(drop=True)\n",
    "    \n",
    "    # Drop the 'Ticker' and 'Open' columns\n",
    "    df = df.drop(columns = ['Ticker', 'Open'], axis=1)\n",
    "    \n",
    "    # Rename the 'Close' column with the passed label\n",
    "    df = df.rename(columns={'Close': label})\n",
    "    \n",
    "    return df\n",
    "\n",
    "# Process all of the data\n",
    "VIX = process_data(VIX, 'VIX')\n",
    "DOW = process_data(DOW, 'DOW')\n",
    "GFD = process_data(GFD, 'GFD')\n",
    "GOLD = process_data(GOLD, 'GOLD')\n",
    "SPX = process_data(SPX, 'SPX')\n",
    "#US_10YR = process_data(US_10YR, 'US_10YR')\n",
    "\n",
    "# Merge all of the data into one large dataframe\n",
    "from functools import reduce\n",
    "\n",
    "dfs = [VIX, DOW, GFD, GOLD, SPX]\n",
    "#dfs = [VIX, DOW, GFD, GOLD, SPX, US_10YR]\n",
    "data = reduce(lambda  left,right: pd.merge(left,right,on=['Date'], how='outer'), dfs)\n",
    "\n",
    "# Sort the data by descending date\n",
    "data = data.sort_values(by='Date', ascending=False).reset_index(drop=True)\n",
    "\n",
    "# For each column in the dataframe fill in the gaps where there is no data by taking the last valid value\n",
    "data = data.fillna(method = 'bfill')\n",
    "\n",
    "data"
   ]
  },
  {
   "cell_type": "markdown",
   "metadata": {},
   "source": [
    "# Data Visualization"
   ]
  },
  {
   "cell_type": "code",
   "execution_count": 3,
   "metadata": {},
   "outputs": [
    {
     "data": {
      "image/png": "[encoded data removed]",
      "text/plain": [
       "<Figure size 432x288 with 5 Axes>"
      ]
     },
     "metadata": {
      "needs_background": "light"
     },
     "output_type": "display_data"
    },
    {
     "data": {
      "image/png": "[encoded data removed]",
      "text/plain": [
       "<Figure size 432x288 with 1 Axes>"
      ]
     },
     "metadata": {
      "needs_background": "light"
     },
     "output_type": "display_data"
    }
   ],
   "source": [
    "data.plot('Date', subplots=True)\n",
    "plt.show()\n",
    "\n",
    "data['VIX'].plot(kind = 'kde')\n",
    "plt.show()"
   ]
  },
  {
   "cell_type": "markdown",
   "metadata": {},
   "source": [
    "# Data Processing"
   ]
  },
  {
   "cell_type": "code",
   "execution_count": 4,
   "metadata": {},
   "outputs": [],
   "source": [
    "# Define a function to process the data for Bidirectional LSTM\n",
    "def bidirectional_data_processing(data, start_date, end_date, window_size = 30):\n",
    "\n",
    "    # Get the indices of the start date and the end date\n",
    "    start_index = int(np.where(data[:,0] == pd.to_datetime(start_date))[0])\n",
    "    end_index = int(np.where(data[:,0] == pd.to_datetime(end_date))[0])\n",
    "    \n",
    "    \n",
    "    \n",
    "    # Get all of the input data (X)\n",
    "    X_data = data[:,2:]\n",
    "    \n",
    "    # Create an empty array to store the restructured input data\n",
    "    X_data_extended = np.zeros((X_data.shape[0], 2*window_size+1, X_data.shape[-1]))\n",
    "    \n",
    "    # Loop through all samples \n",
    "    for i in range(start_index, end_index+1):\n",
    "        X_data_extended[i,:,:] = X_data[i-window_size:i+window_size+1,:]\n",
    "    \n",
    "    # Get all of the input data (X) for the desired date range\n",
    "    X_data = X_data_extended[start_index:end_index+1]\n",
    "    \n",
    "    # Get all of the output data (Y) for the desired date range\n",
    "    Y_data = data[start_index:end_index+1,1]\n",
    "    \n",
    "    return X_data, Y_data\n",
    "\n",
    "# Convert the data from a pandas dataframe to a numpy array\n",
    "np_data = data.values\n",
    "\n",
    "# normalize features\n",
    "scaler = MinMaxScaler(feature_range=(0, 1))\n",
    "scaled_data = np_data.copy()\n",
    "scaled_data[:,1:] = scaler.fit_transform(scaled_data[:,1:])\n",
    "\n",
    "# Split data into train, dev, and test sets\n",
    "X_train, Y_train = bidirectional_data_processing(scaled_data, start_date = '12/31/2020', end_date = '01/01/1991', window_size = 30)\n",
    "X_dev, Y_dev = bidirectional_data_processing(scaled_data, start_date = '12/31/1990', end_date = '07/01/1988', window_size = 30)\n",
    "X_test, Y_test = bidirectional_data_processing(scaled_data, start_date = '06/30/1988', end_date = '01/01/1986', window_size = 30)"
   ]
  },
  {
   "cell_type": "code",
   "execution_count": 5,
   "metadata": {},
   "outputs": [
    {
     "name": "stdout",
     "output_type": "stream",
     "text": [
      "(10958, 61, 4)\n",
      "(10958,)\n",
      "(914, 61, 4)\n",
      "(914,)\n",
      "(912, 61, 4)\n",
      "(912,)\n"
     ]
    }
   ],
   "source": [
    "print(X_train.shape)\n",
    "print(Y_train.shape)\n",
    "print(X_dev.shape)\n",
    "print(Y_dev.shape)\n",
    "print(X_test.shape)\n",
    "print(Y_test.shape)"
   ]
  }
 ],
 "metadata": {
  "kernelspec": {
   "display_name": "Python 3",
   "language": "python",
   "name": "python3"
  },
  "language_info": {
   "codemirror_mode": {
    "name": "ipython",
    "version": 3
   },
   "file_extension": ".py",
   "mimetype": "text/x-python",
   "name": "python",
   "nbconvert_exporter": "python",
   "pygments_lexer": "ipython3",
   "version": "3.8.5"
  }
 },
 "nbformat": 4,
 "nbformat_minor": 4
}
